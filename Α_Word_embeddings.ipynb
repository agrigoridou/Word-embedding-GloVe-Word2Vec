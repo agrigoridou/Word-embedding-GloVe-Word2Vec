{
  "nbformat": 4,
  "nbformat_minor": 0,
  "metadata": {
    "colab": {
      "provenance": [],
      "authorship_tag": "ABX9TyNK53gncvmA/G3i1JoLe+/Q",
      "include_colab_link": true
    },
    "kernelspec": {
      "name": "python3",
      "display_name": "Python 3"
    },
    "language_info": {
      "name": "python"
    }
  },
  "cells": [
    {
      "cell_type": "markdown",
      "metadata": {
        "id": "view-in-github",
        "colab_type": "text"
      },
      "source": [
        "<a href=\"https://colab.research.google.com/github/agrigoridou/Word-embeddings-and-Recurrent-Neural-Networks-/blob/main/%CE%91_Word_embeddings.ipynb\" target=\"_parent\"><img src=\"https://colab.research.google.com/assets/colab-badge.svg\" alt=\"Open In Colab\"/></a>"
      ]
    },
    {
      "cell_type": "code",
      "execution_count": null,
      "metadata": {
        "id": "2v6rdo6reVph"
      },
      "outputs": [],
      "source": [
        "import gensim.downloader as api\n",
        "from sklearn.metrics.pairwise import cosine_similarity\n",
        "import numpy as np"
      ]
    },
    {
      "cell_type": "markdown",
      "source": [
        "# Φόρτωση των προ-εκπαιδευμένων μοντέλων Word2Vec και GloVe"
      ],
      "metadata": {
        "id": "rW2nEiZQedXl"
      }
    },
    {
      "cell_type": "code",
      "source": [
        "word2vec_model = api.load(\"word2vec-google-news-300\")\n",
        "glove_model = api.load(\"glove-wiki-gigaword-300\")"
      ],
      "metadata": {
        "id": "mBkJRjpPee6k"
      },
      "execution_count": null,
      "outputs": []
    },
    {
      "cell_type": "markdown",
      "source": [
        "# Συνάρτηση για εύρεση κοντινών λέξεων"
      ],
      "metadata": {
        "id": "x4KYD47kehFs"
      }
    },
    {
      "cell_type": "code",
      "source": [
        "def find_closest_words(model, word, topn=10):\n",
        "    try:\n",
        "        return model.most_similar(word, topn=topn)\n",
        "    except KeyError:\n",
        "        return f\"The word '{word}' is not in the vocabulary.\""
      ],
      "metadata": {
        "id": "yoJL0mzaeiXV"
      },
      "execution_count": null,
      "outputs": []
    },
    {
      "cell_type": "markdown",
      "source": [
        "# Ερώτημα 1: 10 πιο κοντινές λέξεις για προκαθορισμένες λέξεις"
      ],
      "metadata": {
        "id": "9NMst6dZekCU"
      }
    },
    {
      "cell_type": "code",
      "source": [
        "words = ['car', 'jaguar', 'Jaguar', 'facebook']\n",
        "results = {}\n",
        "for word in words:\n",
        "    results[word] = {\n",
        "        \"word2vec\": find_closest_words(word2vec_model, word),\n",
        "        \"glove\": find_closest_words(glove_model, word),\n",
        "    }"
      ],
      "metadata": {
        "id": "TmjsWQNLemmE"
      },
      "execution_count": null,
      "outputs": []
    },
    {
      "cell_type": "markdown",
      "source": [
        "## Εύρεση κοινών λέξεων"
      ],
      "metadata": {
        "id": "6RaVjPSOerfF"
      }
    },
    {
      "cell_type": "code",
      "source": [
        "for word in words:\n",
        "    w2v_words = [item[0] for item in results[word][\"word2vec\"]]\n",
        "    glove_words = [item[0] for item in results[word][\"glove\"]]\n",
        "    common_words = set(w2v_words).intersection(set(glove_words))\n",
        "    print(f\"Common words for '{word}': {common_words}\")"
      ],
      "metadata": {
        "id": "8a3QDyx8etIn"
      },
      "execution_count": null,
      "outputs": []
    },
    {
      "cell_type": "markdown",
      "source": [
        "# Ερώτημα 2: Επαναλήψεις για λέξεις επιλογής σας"
      ],
      "metadata": {
        "id": "wYJt1Vv-eu3u"
      }
    },
    {
      "cell_type": "code",
      "source": [
        "custom_words = ['python', 'teacher', 'university', 'robot']\n",
        "custom_results = {}\n",
        "for word in custom_words:\n",
        "    custom_results[word] = {\n",
        "        \"word2vec\": find_closest_words(word2vec_model, word),\n",
        "        \"glove\": find_closest_words(glove_model, word),\n",
        "    }"
      ],
      "metadata": {
        "id": "am6hDs6Xewj7"
      },
      "execution_count": null,
      "outputs": []
    },
    {
      "cell_type": "markdown",
      "source": [
        "# Ερώτημα 3: Φιλτράρισμα λέξεων για 'student'"
      ],
      "metadata": {
        "id": "Jhhk0QfXeyMC"
      }
    },
    {
      "cell_type": "code",
      "source": [
        "def filter_related_words(model, word, filter_words, topn=20):\n",
        "    try:\n",
        "        similar_words = model.most_similar(word, topn=topn)\n",
        "        filtered = [item for item in similar_words if not any(fw in item[0] for fw in filter_words)]\n",
        "        return filtered[:10]\n",
        "    except KeyError:\n",
        "        return f\"The word '{word}' is not in the vocabulary.\"\n",
        "\n",
        "student_filters = {\n",
        "    \"university\": ['university', 'college', 'campus'],\n",
        "    \"school\": ['school', 'class', 'teacher', 'student'],\n",
        "}\n",
        "\n",
        "student_results = {\n",
        "    \"word2vec\": {\n",
        "        \"default\": find_closest_words(word2vec_model, 'student'),\n",
        "        \"filtered_university\": filter_related_words(word2vec_model, 'student', student_filters['university']),\n",
        "        \"filtered_school\": filter_related_words(word2vec_model, 'student', student_filters['school']),\n",
        "    },\n",
        "    \"glove\": {\n",
        "        \"default\": find_closest_words(glove_model, 'student'),\n",
        "        \"filtered_university\": filter_related_words(glove_model, 'student', student_filters['university']),\n",
        "        \"filtered_school\": filter_related_words(glove_model, 'student', student_filters['school']),\n",
        "    }\n",
        "}"
      ],
      "metadata": {
        "id": "ANbStSrwezuy"
      },
      "execution_count": null,
      "outputs": []
    },
    {
      "cell_type": "markdown",
      "source": [
        "# Ερώτημα 4: Αναλογίες"
      ],
      "metadata": {
        "id": "gc1esEjOe2bQ"
      }
    },
    {
      "cell_type": "code",
      "source": [
        "def find_analogies(model, word_a, word_b, word_c):\n",
        "    try:\n",
        "        result = model.most_similar(positive=[word_a, word_c], negative=[word_b], topn=2)\n",
        "        return result\n",
        "    except KeyError as e:\n",
        "        return f\"Error: {str(e)}\"\n",
        "\n",
        "analogies = [\n",
        "    (\"king\", \"man\", \"woman\"),\n",
        "    (\"Paris\", \"France\", \"Italy\"),\n",
        "    (\"teacher\", \"school\", \"college\"),\n",
        "    (\"car\", \"road\", \"track\"),\n",
        "    (\"python\", \"language\", \"code\"),\n",
        "]\n",
        "\n",
        "analogy_results = {}\n",
        "for analogy in analogies:\n",
        "    word_a, word_b, word_c = analogy\n",
        "    analogy_results[f\"{word_a}-{word_b}+{word_c}\"] = {\n",
        "        \"word2vec\": find_analogies(word2vec_model, word_a, word_b, word_c),\n",
        "        \"glove\": find_analogies(glove_model, word_a, word_b, word_c),\n",
        "    }"
      ],
      "metadata": {
        "id": "E8EIjq4ee3lP"
      },
      "execution_count": null,
      "outputs": []
    },
    {
      "cell_type": "markdown",
      "source": [
        "# Ερώτημα 5: Custom αναλογίες"
      ],
      "metadata": {
        "id": "KUgdD3xYe6t-"
      }
    },
    {
      "cell_type": "code",
      "source": [
        "custom_analogies = [\n",
        "    (\"robot\", \"machine\", \"human\"),\n",
        "    (\"doctor\", \"hospital\", \"clinic\"),\n",
        "    (\"music\", \"sound\", \"instrument\"),\n",
        "]\n",
        "\n",
        "custom_analogy_results = {}\n",
        "for analogy in custom_analogies:\n",
        "    word_a, word_b, word_c = analogy\n",
        "    custom_analogy_results[f\"{word_a}-{word_b}+{word_c}\"] = {\n",
        "        \"word2vec\": find_analogies(word2vec_model, word_a, word_b, word_c),\n",
        "        \"glove\": find_analogies(glove_model, word_a, word_b, word_c),\n",
        "    }"
      ],
      "metadata": {
        "id": "W-KNXleMe7FQ"
      },
      "execution_count": null,
      "outputs": []
    }
  ]
}