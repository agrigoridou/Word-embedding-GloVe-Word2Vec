{
  "nbformat": 4,
  "nbformat_minor": 0,
  "metadata": {
    "colab": {
      "provenance": [],
      "authorship_tag": "ABX9TyMaEQIp/5c3BSEiRzmB3y4B",
      "include_colab_link": true
    },
    "kernelspec": {
      "name": "python3",
      "display_name": "Python 3"
    },
    "language_info": {
      "name": "python"
    }
  },
  "cells": [
    {
      "cell_type": "markdown",
      "metadata": {
        "id": "view-in-github",
        "colab_type": "text"
      },
      "source": [
        "<a href=\"https://colab.research.google.com/github/agrigoridou/Word-embeddings-and-Recurrent-Neural-Networks-/blob/main/%CE%91_Word_embeddings.ipynb\" target=\"_parent\"><img src=\"https://colab.research.google.com/assets/colab-badge.svg\" alt=\"Open In Colab\"/></a>"
      ]
    },
    {
      "cell_type": "code",
      "source": [
        "!pip install gensim"
      ],
      "metadata": {
        "colab": {
          "base_uri": "https://localhost:8080/"
        },
        "id": "eCXN5MnUjHtL",
        "outputId": "c21588d6-f987-4e45-a47e-7975672295e9"
      },
      "execution_count": 4,
      "outputs": [
        {
          "output_type": "stream",
          "name": "stdout",
          "text": [
            "Requirement already satisfied: gensim in /usr/local/lib/python3.10/dist-packages (4.3.3)\n",
            "Requirement already satisfied: numpy<2.0,>=1.18.5 in /usr/local/lib/python3.10/dist-packages (from gensim) (1.26.4)\n",
            "Requirement already satisfied: scipy<1.14.0,>=1.7.0 in /usr/local/lib/python3.10/dist-packages (from gensim) (1.13.1)\n",
            "Requirement already satisfied: smart-open>=1.8.1 in /usr/local/lib/python3.10/dist-packages (from gensim) (7.0.5)\n",
            "Requirement already satisfied: wrapt in /usr/local/lib/python3.10/dist-packages (from smart-open>=1.8.1->gensim) (1.16.0)\n"
          ]
        }
      ]
    },
    {
      "cell_type": "code",
      "execution_count": 5,
      "metadata": {
        "id": "2v6rdo6reVph"
      },
      "outputs": [],
      "source": [
        "import gensim.downloader as api\n",
        "from sklearn.metrics.pairwise import cosine_similarity\n",
        "import numpy as np"
      ]
    },
    {
      "cell_type": "markdown",
      "source": [
        "# Φόρτωση των προ-εκπαιδευμένων μοντέλων Word2Vec και GloVe"
      ],
      "metadata": {
        "id": "rW2nEiZQedXl"
      }
    },
    {
      "cell_type": "code",
      "source": [
        "# Φόρτωση Word2Vec (Google News 300)\n",
        "word2vec_model = api.load(\"word2vec-google-news-300\")\n",
        "\n",
        "# Φόρτωση GloVe (Wiki-Gigaword 300)\n",
        "glove_model = api.load(\"glove-wiki-gigaword-300\")"
      ],
      "metadata": {
        "colab": {
          "base_uri": "https://localhost:8080/"
        },
        "id": "IwiW5H3KitzU",
        "outputId": "5867b1ac-96bd-4a42-c1ba-d45dc99a5088"
      },
      "execution_count": 6,
      "outputs": [
        {
          "output_type": "stream",
          "name": "stdout",
          "text": [
            "[==================================================] 100.0% 1662.8/1662.8MB downloaded\n",
            "[==================================================] 100.0% 376.1/376.1MB downloaded\n"
          ]
        }
      ]
    },
    {
      "cell_type": "markdown",
      "source": [
        "# Συνάρτηση για εύρεση κοντινών λέξεων"
      ],
      "metadata": {
        "id": "x4KYD47kehFs"
      }
    },
    {
      "cell_type": "code",
      "source": [
        "def find_closest_words(model, word, topn=10):\n",
        "    try:\n",
        "        return model.most_similar(word, topn=topn)\n",
        "    except KeyError:\n",
        "        return f\"The word '{word}' is not in the vocabulary.\""
      ],
      "metadata": {
        "id": "yoJL0mzaeiXV"
      },
      "execution_count": 7,
      "outputs": []
    },
    {
      "cell_type": "markdown",
      "source": [
        "# Ερώτημα 1: 10 πιο κοντινές λέξεις για προκαθορισμένες λέξεις"
      ],
      "metadata": {
        "id": "9NMst6dZekCU"
      }
    },
    {
      "cell_type": "code",
      "source": [
        "# Ορισμός των λέξεων\n",
        "words = ['car', 'jaguar', 'Jaguar', 'facebook']"
      ],
      "metadata": {
        "id": "TmjsWQNLemmE"
      },
      "execution_count": 14,
      "outputs": []
    },
    {
      "cell_type": "code",
      "source": [
        "# Αποθήκευση αποτελεσμάτων για το Word2Vec και το GloVe\n",
        "results = {}\n",
        "for word in words:\n",
        "    results[word] = {\n",
        "        \"word2vec\": find_closest_words(word2vec_model, word),\n",
        "        \"glove\": find_closest_words(glove_model, word),\n",
        "    }"
      ],
      "metadata": {
        "id": "ipLiT6nAncxV"
      },
      "execution_count": 15,
      "outputs": []
    },
    {
      "cell_type": "code",
      "source": [
        "# Εκτύπωση των αποτελεσμάτων\n",
        "for word in words:\n",
        "    print(f\"Results for word: {word}\")\n",
        "    print(\"Word2Vec:\", results[word][\"word2vec\"])\n",
        "    print(\"GloVe:\", results[word][\"glove\"])\n",
        "    print()"
      ],
      "metadata": {
        "colab": {
          "base_uri": "https://localhost:8080/"
        },
        "id": "Lgf62iUcne9O",
        "outputId": "8e20c525-987f-4fe4-b3b7-8ce04279cb7d"
      },
      "execution_count": 16,
      "outputs": [
        {
          "output_type": "stream",
          "name": "stdout",
          "text": [
            "Results for word: car\n",
            "Word2Vec: [('vehicle', 0.7821096181869507), ('cars', 0.7423831224441528), ('SUV', 0.7160962224006653), ('minivan', 0.6907036900520325), ('truck', 0.6735789775848389), ('Car', 0.6677608489990234), ('Ford_Focus', 0.667320191860199), ('Honda_Civic', 0.6626849174499512), ('Jeep', 0.651133120059967), ('pickup_truck', 0.6441438794136047)]\n",
            "GloVe: [('cars', 0.7827162146568298), ('vehicle', 0.7655367851257324), ('truck', 0.7350621819496155), ('driver', 0.7114784717559814), ('driving', 0.6442225575447083), ('vehicles', 0.6328005194664001), ('motorcycle', 0.6022513508796692), ('automobile', 0.595572829246521), ('parked', 0.5910030603408813), ('drivers', 0.5778359770774841)]\n",
            "\n",
            "Results for word: jaguar\n",
            "Word2Vec: [('jaguars', 0.6738404631614685), ('Macho_B', 0.6313095688819885), ('panther', 0.608633816242218), ('lynx', 0.5814595818519592), ('rhino', 0.5754255056381226), ('lizard', 0.560685396194458), ('tapir', 0.5563079118728638), ('tiger', 0.5528684854507446), ('leopard', 0.5472891926765442), ('Florida_panther', 0.5464144945144653)]\n",
            "GloVe: [('rover', 0.5931318998336792), ('bmw', 0.5415095090866089), ('mercedes', 0.5255725979804993), ('sepecat', 0.5029979944229126), ('mustang', 0.49867409467697144), ('lexus', 0.48445773124694824), ('volvo', 0.48287099599838257), ('cosworth', 0.4809246361255646), ('xk', 0.47639670968055725), ('maserati', 0.4756579101085663)]\n",
            "\n",
            "Results for word: Jaguar\n",
            "Word2Vec: [('Land_Rover', 0.6483929753303528), ('Aston_Martin', 0.6436689496040344), ('Mercedes', 0.6419644951820374), ('Porsche', 0.6232999563217163), ('BMW', 0.6055440902709961), ('Bentley_Arnage', 0.6040021777153015), ('XF_sedan', 0.5995649695396423), ('Audi', 0.5975516438484192), ('Jaguar_XF', 0.5950871706008911), ('XJ_saloon', 0.5941551327705383)]\n",
            "GloVe: The word 'Jaguar' is not in the vocabulary.\n",
            "\n",
            "Results for word: facebook\n",
            "Word2Vec: [('Facebook', 0.7563533186912537), ('FaceBook', 0.7076998949050903), ('twitter', 0.6988552212715149), ('myspace', 0.6941817998886108), ('Twitter', 0.664244532585144), ('twitter_facebook', 0.6572229862213135), ('Facebook.com', 0.6529868245124817), ('myspace_facebook', 0.6370643973350525), ('facebook_twitter', 0.6367618441581726), ('linkedin', 0.6356592774391174)]\n",
            "GloVe: [('twitter', 0.8349669575691223), ('myspace', 0.8055926561355591), ('youtube', 0.7291773557662964), ('blog', 0.6403629183769226), ('linkedin', 0.6332523822784424), ('google', 0.6268066763877869), ('website', 0.6157268285751343), ('web', 0.6143152713775635), ('blogs', 0.6064029932022095), ('networking', 0.6047351360321045)]\n",
            "\n"
          ]
        }
      ]
    },
    {
      "cell_type": "markdown",
      "source": [
        "## Εύρεση κοινών λέξεων"
      ],
      "metadata": {
        "id": "6RaVjPSOerfF"
      }
    },
    {
      "cell_type": "code",
      "source": [
        "common_words = {}\n",
        "for word in words:\n",
        "    w2v_words = [item[0] for item in results[word][\"word2vec\"]]\n",
        "    glove_words = [item[0] for item in results[word][\"glove\"]]\n",
        "    common_words[word] = set(w2v_words).intersection(set(glove_words))\n"
      ],
      "metadata": {
        "id": "8a3QDyx8etIn"
      },
      "execution_count": 17,
      "outputs": []
    },
    {
      "cell_type": "code",
      "source": [
        "# Εκτύπωση κοινών λέξεων\n",
        "for word in words:\n",
        "    print(f\"Common words for '{word}': {common_words[word]}\")\n",
        "    print(f\"Number of common words: {len(common_words[word])}\")"
      ],
      "metadata": {
        "colab": {
          "base_uri": "https://localhost:8080/"
        },
        "id": "q3K1rUGMnj3E",
        "outputId": "ce94d59f-2d70-41c6-fc7f-68f492f38c73"
      },
      "execution_count": 18,
      "outputs": [
        {
          "output_type": "stream",
          "name": "stdout",
          "text": [
            "Common words for 'car': {'truck', 'cars', 'vehicle'}\n",
            "Number of common words: 3\n",
            "Common words for 'jaguar': set()\n",
            "Number of common words: 0\n",
            "Common words for 'Jaguar': set()\n",
            "Number of common words: 0\n",
            "Common words for 'facebook': {'linkedin', 'myspace', 'twitter'}\n",
            "Number of common words: 3\n"
          ]
        }
      ]
    },
    {
      "cell_type": "markdown",
      "source": [
        "# Ερώτημα 2: Επαναλήψεις για λέξεις επιλογής σας"
      ],
      "metadata": {
        "id": "wYJt1Vv-eu3u"
      }
    },
    {
      "cell_type": "code",
      "source": [
        "# Ορισμός των νέων λέξεων\n",
        "new_words = ['computer', 'dog', 'school', 'king']"
      ],
      "metadata": {
        "id": "am6hDs6Xewj7"
      },
      "execution_count": 19,
      "outputs": []
    },
    {
      "cell_type": "code",
      "source": [
        "# Αποθήκευση αποτελεσμάτων για το Word2Vec και το GloVe για τις νέες λέξεις\n",
        "new_results = {}\n",
        "for word in new_words:\n",
        "    new_results[word] = {\n",
        "        \"word2vec\": find_closest_words(word2vec_model, word),\n",
        "        \"glove\": find_closest_words(glove_model, word),\n",
        "    }"
      ],
      "metadata": {
        "id": "t4IKK0CDoM36"
      },
      "execution_count": 20,
      "outputs": []
    },
    {
      "cell_type": "code",
      "source": [
        "# Εκτύπωση των αποτελεσμάτων\n",
        "for word in new_words:\n",
        "    print(f\"Results for word: {word}\")\n",
        "    print(\"Word2Vec:\", new_results[word][\"word2vec\"])\n",
        "    print(\"GloVe:\", new_results[word][\"glove\"])\n",
        "    print()"
      ],
      "metadata": {
        "colab": {
          "base_uri": "https://localhost:8080/"
        },
        "id": "30Gzeiz5oOBh",
        "outputId": "dbec95d6-9285-4cfa-df9c-7413078419d9"
      },
      "execution_count": 21,
      "outputs": [
        {
          "output_type": "stream",
          "name": "stdout",
          "text": [
            "Results for word: computer\n",
            "Word2Vec: [('computers', 0.7979379892349243), ('laptop', 0.6640493273735046), ('laptop_computer', 0.6548868417739868), ('Computer', 0.647333562374115), ('com_puter', 0.6082080006599426), ('technician_Leonard_Luchko', 0.5662748217582703), ('mainframes_minicomputers', 0.5617720484733582), ('laptop_computers', 0.5585449934005737), ('PC', 0.5539618730545044), ('maker_Dell_DELL.O', 0.5519254207611084)]\n",
            "GloVe: [('computers', 0.8248152732849121), ('software', 0.7334420084953308), ('pc', 0.6240139603614807), ('technology', 0.6198545098304749), ('computing', 0.6178765296936035), ('laptop', 0.5955509543418884), ('internet', 0.5857782363891602), ('ibm', 0.5825320482254028), ('systems', 0.5744993686676025), ('hardware', 0.5728795528411865)]\n",
            "\n",
            "Results for word: dog\n",
            "Word2Vec: [('dogs', 0.8680489659309387), ('puppy', 0.8106428384780884), ('pit_bull', 0.780396044254303), ('pooch', 0.7627376914024353), ('cat', 0.7609457969665527), ('golden_retriever', 0.7500901818275452), ('German_shepherd', 0.7465174198150635), ('Rottweiler', 0.7437615394592285), ('beagle', 0.7418621778488159), ('pup', 0.740691065788269)]\n",
            "GloVe: [('dogs', 0.7888557314872742), ('cat', 0.6816746592521667), ('pet', 0.6291598081588745), ('puppy', 0.593606173992157), ('hound', 0.5468214750289917), ('horse', 0.5369751453399658), ('animal', 0.5316445827484131), ('cats', 0.5080744028091431), ('canine', 0.5038436055183411), ('pets', 0.5019966959953308)]\n",
            "\n",
            "Results for word: school\n",
            "Word2Vec: [('elementary', 0.7868632078170776), ('schools', 0.7411909103393555), ('shool', 0.6692329049110413), ('elementary_schools', 0.6597153544425964), ('kindergarten', 0.6529811024665833), ('eighth_grade', 0.6488089561462402), ('School', 0.6477997303009033), ('teacher', 0.63824063539505), ('students', 0.6301522850990295), ('classroom', 0.6281620264053345)]\n",
            "GloVe: [('schools', 0.7685322165489197), ('students', 0.7240082621574402), ('elementary', 0.719539999961853), ('college', 0.7110487222671509), ('education', 0.629763126373291), ('high', 0.6200570464134216), ('teacher', 0.6195809245109558), ('student', 0.6130647659301758), ('graduate', 0.6104811429977417), ('kindergarten', 0.5977890491485596)]\n",
            "\n",
            "Results for word: king\n",
            "Word2Vec: [('kings', 0.7138045430183411), ('queen', 0.6510956883430481), ('monarch', 0.6413194537162781), ('crown_prince', 0.6204220056533813), ('prince', 0.6159993410110474), ('sultan', 0.5864824056625366), ('ruler', 0.5797567367553711), ('princes', 0.5646552443504333), ('Prince_Paras', 0.5432944297790527), ('throne', 0.5422105193138123)]\n",
            "GloVe: [('queen', 0.6336469054222107), ('prince', 0.6196622848510742), ('monarch', 0.5899620652198792), ('kingdom', 0.5791266560554504), ('throne', 0.5606487989425659), ('ii', 0.5562329292297363), ('iii', 0.5503199100494385), ('crown', 0.5224862694740295), ('reign', 0.5217353701591492), ('kings', 0.5066401958465576)]\n",
            "\n"
          ]
        }
      ]
    },
    {
      "cell_type": "code",
      "source": [
        "# Εύρεση κοινών λέξεων για τις νέες λέξεις\n",
        "new_common_words = {}\n",
        "for word in new_words:\n",
        "    w2v_words = [item[0] for item in new_results[word][\"word2vec\"]]\n",
        "    glove_words = [item[0] for item in new_results[word][\"glove\"]]\n",
        "    new_common_words[word] = set(w2v_words).intersection(set(glove_words))"
      ],
      "metadata": {
        "id": "EBt52oN_oPgi"
      },
      "execution_count": 22,
      "outputs": []
    },
    {
      "cell_type": "code",
      "source": [
        "# Εκτύπωση κοινών λέξεων για τις νέες λέξεις\n",
        "for word in new_words:\n",
        "    print(f\"Common words for '{word}': {new_common_words[word]}\")\n",
        "    print(f\"Number of common words: {len(new_common_words[word])}\")"
      ],
      "metadata": {
        "colab": {
          "base_uri": "https://localhost:8080/"
        },
        "id": "gvo2aUDmoRRR",
        "outputId": "a7920775-b905-4c9f-f788-b4ab499370d8"
      },
      "execution_count": 23,
      "outputs": [
        {
          "output_type": "stream",
          "name": "stdout",
          "text": [
            "Common words for 'computer': {'laptop', 'computers'}\n",
            "Number of common words: 2\n",
            "Common words for 'dog': {'cat', 'dogs', 'puppy'}\n",
            "Number of common words: 3\n",
            "Common words for 'school': {'schools', 'teacher', 'students', 'elementary', 'kindergarten'}\n",
            "Number of common words: 5\n",
            "Common words for 'king': {'throne', 'queen', 'monarch', 'prince', 'kings'}\n",
            "Number of common words: 5\n"
          ]
        }
      ]
    },
    {
      "cell_type": "markdown",
      "source": [
        "# Ερώτημα 3: Φιλτράρισμα λέξεων για 'student'"
      ],
      "metadata": {
        "id": "Jhhk0QfXeyMC"
      }
    },
    {
      "cell_type": "markdown",
      "source": [
        "##10 πιο κοντινές λέξεις για τη λέξη \"student\":"
      ],
      "metadata": {
        "id": "OJk9P8TVorrl"
      }
    },
    {
      "cell_type": "code",
      "source": [
        "# Λέξη που θα εξετάσουμε\n",
        "word = 'student'"
      ],
      "metadata": {
        "id": "ANbStSrwezuy"
      },
      "execution_count": 24,
      "outputs": []
    },
    {
      "cell_type": "code",
      "source": [
        "# Βρίσκουμε τις 10 πιο κοντινές λέξεις στο Word2Vec και στο GloVe\n",
        "word2vec_similar_words = find_closest_words(word2vec_model, word)\n",
        "glove_similar_words = find_closest_words(glove_model, word)"
      ],
      "metadata": {
        "id": "0oHIlSdEovO1"
      },
      "execution_count": 25,
      "outputs": []
    },
    {
      "cell_type": "code",
      "source": [
        "# Εκτύπωση των αποτελεσμάτων\n",
        "print(f\"10 most similar words for 'student' according to Word2Vec:\")\n",
        "print(word2vec_similar_words)\n",
        "\n",
        "print(f\"\\n10 most similar words for 'student' according to GloVe:\")\n",
        "print(glove_similar_words)"
      ],
      "metadata": {
        "colab": {
          "base_uri": "https://localhost:8080/"
        },
        "id": "7KDjQuOXowly",
        "outputId": "1ae8742c-188c-4fc6-e7d3-76d34225936d"
      },
      "execution_count": 26,
      "outputs": [
        {
          "output_type": "stream",
          "name": "stdout",
          "text": [
            "10 most similar words for 'student' according to Word2Vec:\n",
            "[('students', 0.7294867038726807), ('Student', 0.6706662774085999), ('teacher', 0.6301366090774536), ('stu_dent', 0.6240993142127991), ('faculty', 0.6087332963943481), ('school', 0.6055627465248108), ('undergraduate', 0.6020305752754211), ('university', 0.600540041923523), ('undergraduates', 0.5755698680877686), ('semester', 0.573759913444519)]\n",
            "\n",
            "10 most similar words for 'student' according to GloVe:\n",
            "[('students', 0.7690913677215576), ('teacher', 0.6873654723167419), ('graduate', 0.6737601161003113), ('school', 0.6130647659301758), ('college', 0.6090279221534729), ('undergraduate', 0.6043776273727417), ('faculty', 0.599898636341095), ('university', 0.5970513224601746), ('academic', 0.5810065865516663), ('campus', 0.5767688155174255)]\n"
          ]
        }
      ]
    },
    {
      "cell_type": "markdown",
      "source": [
        "##Αποκλεισμός λέξεων που σχετίζονται με φοιτητές πανεπιστημίου και μαθητές Δημοτικού-Γυμνασίου-Λυκείου:"
      ],
      "metadata": {
        "id": "p54iVdkboy4z"
      }
    },
    {
      "cell_type": "markdown",
      "source": [
        "Για να αφαιρέσουμε τις λέξεις που σχετίζονται με φοιτητές πανεπιστημίου ή μαθητές σχολείου, μπορούμε να δημιουργήσουμε δύο λίστες από λέξεις που συσχετίζονται με αυτές τις κατηγορίες και να τις αφαιρέσουμε από τα αποτελέσματα. Αυτές οι λέξεις μπορεί να περιλαμβάνουν \"university\", \"college\", \"professor\", \"highschool\", \"school\", \"teacher\", κ.λπ."
      ],
      "metadata": {
        "id": "8jUeUFGCpLPq"
      }
    },
    {
      "cell_type": "code",
      "source": [
        "# Λίστες λέξεων που σχετίζονται με φοιτητές πανεπιστημίου και μαθητές\n",
        "university_related_words = ['university', 'college', 'professor', 'campus', 'graduate', 'academic', 'degree']\n",
        "school_related_words = ['school', 'teacher', 'highschool', 'classroom', 'curriculum', 'exam', 'homework']\n"
      ],
      "metadata": {
        "id": "XpsVOvSPo5fQ"
      },
      "execution_count": 27,
      "outputs": []
    },
    {
      "cell_type": "code",
      "source": [
        "# Συνδυασμός των δύο λιστών\n",
        "exclude_words = university_related_words + school_related_words"
      ],
      "metadata": {
        "id": "WRp5ick8o6G5"
      },
      "execution_count": 28,
      "outputs": []
    },
    {
      "cell_type": "code",
      "source": [
        "# Αφαίρεση των λέξεων που βρίσκονται στις παραπάνω λίστες\n",
        "filtered_word2vec = [word for word in word2vec_similar_words if word[0] not in exclude_words]\n",
        "filtered_glove = [word for word in glove_similar_words if word[0] not in exclude_words]\n"
      ],
      "metadata": {
        "id": "6hVdb3PMo8Kr"
      },
      "execution_count": 29,
      "outputs": []
    },
    {
      "cell_type": "code",
      "source": [
        "# Εκτύπωση των φιλτραρισμένων αποτελεσμάτων\n",
        "print(f\"\\nFiltered Word2Vec (excluding university and school-related words):\")\n",
        "print(filtered_word2vec)\n",
        "\n",
        "print(f\"\\nFiltered GloVe (excluding university and school-related words):\")\n",
        "print(filtered_glove)"
      ],
      "metadata": {
        "colab": {
          "base_uri": "https://localhost:8080/"
        },
        "id": "N4a17kTwo-Qu",
        "outputId": "af6bb233-115f-47ca-fcfc-9f664aee8b67"
      },
      "execution_count": 30,
      "outputs": [
        {
          "output_type": "stream",
          "name": "stdout",
          "text": [
            "\n",
            "Filtered Word2Vec (excluding university and school-related words):\n",
            "[('students', 0.7294867038726807), ('Student', 0.6706662774085999), ('stu_dent', 0.6240993142127991), ('faculty', 0.6087332963943481), ('undergraduate', 0.6020305752754211), ('undergraduates', 0.5755698680877686), ('semester', 0.573759913444519)]\n",
            "\n",
            "Filtered GloVe (excluding university and school-related words):\n",
            "[('students', 0.7690913677215576), ('undergraduate', 0.6043776273727417), ('faculty', 0.599898636341095)]\n"
          ]
        }
      ]
    },
    {
      "cell_type": "markdown",
      "source": [
        "# Ερώτημα 4: Αναλογίες"
      ],
      "metadata": {
        "id": "gc1esEjOe2bQ"
      }
    },
    {
      "cell_type": "code",
      "source": [
        "# Αναλογίες\n",
        "analogies = [\n",
        "    ('king', 'man', 'woman'),\n",
        "    ('France', 'Paris', 'Tokyo'),\n",
        "    ('trees', 'apples', 'grapes'),\n",
        "    ('swimming', 'walking', 'walked'),\n",
        "    ('doctor', 'father', 'mother')\n",
        "]"
      ],
      "metadata": {
        "id": "E8EIjq4ee3lP"
      },
      "execution_count": 31,
      "outputs": []
    },
    {
      "cell_type": "code",
      "source": [
        "# Συνάρτηση για την αναλογία με έλεγχο αν οι λέξεις υπάρχουν στο λεξικό του μοντέλου\n",
        "def find_analogy(model, word1, word2, word3):\n",
        "    # Ελέγχει αν όλες οι λέξεις υπάρχουν στο λεξικό του μοντέλου\n",
        "    if word1 in model.key_to_index and word2 in model.key_to_index and word3 in model.key_to_index:\n",
        "        result = model.most_similar(positive=[word3, word2], negative=[word1], topn=2)\n",
        "        return result\n",
        "    else:\n",
        "        return f\"One or more words not in vocabulary: {word1}, {word2}, {word3}\""
      ],
      "metadata": {
        "id": "_2cITPMiqfU6"
      },
      "execution_count": 34,
      "outputs": []
    },
    {
      "cell_type": "code",
      "source": [
        "# Εκτέλεση για κάθε αναλογία\n",
        "for analogy in analogies:\n",
        "    word1, word2, word3 = analogy\n",
        "    word2vec_result = find_analogy(word2vec_model, word1, word2, word3)\n",
        "    glove_result = find_analogy(glove_model, word1, word2, word3)\n",
        "\n",
        "    print(f\"Analogy: {word1} - {word2} + {word3}\")\n",
        "\n",
        "    print(f\"Word2Vec closest words: {word2vec_result}\")\n",
        "    print(f\"GloVe closest words: {glove_result}\")\n",
        "    print(\"-\" * 50)"
      ],
      "metadata": {
        "colab": {
          "base_uri": "https://localhost:8080/"
        },
        "id": "kBFX3vuVqgny",
        "outputId": "7883ccb7-77ea-4223-eb10-25905c42e616"
      },
      "execution_count": 35,
      "outputs": [
        {
          "output_type": "stream",
          "name": "stdout",
          "text": [
            "Analogy: king - man + woman\n",
            "Word2Vec closest words: [('teenage_girl', 0.626004159450531), ('girl', 0.598484456539154)]\n",
            "GloVe closest words: [('girl', 0.6010250449180603), ('person', 0.5670419931411743)]\n",
            "--------------------------------------------------\n",
            "Analogy: France - Paris + Tokyo\n",
            "Word2Vec closest words: [('Toyko', 0.626667857170105), ('Osaka', 0.6135361194610596)]\n",
            "GloVe closest words: One or more words not in vocabulary: France, Paris, Tokyo\n",
            "--------------------------------------------------\n",
            "Analogy: trees - apples + grapes\n",
            "Word2Vec closest words: [('grape', 0.670628547668457), ('peaches', 0.610050618648529)]\n",
            "GloVe closest words: [('oranges', 0.5917646288871765), ('peaches', 0.5814932584762573)]\n",
            "--------------------------------------------------\n",
            "Analogy: swimming - walking + walked\n",
            "Word2Vec closest words: [('walk', 0.6318311095237732), ('strode', 0.5944611430168152)]\n",
            "GloVe closest words: [('walk', 0.6345222592353821), ('walks', 0.6176889538764954)]\n",
            "--------------------------------------------------\n",
            "Analogy: doctor - father + mother\n",
            "Word2Vec closest words: [('son', 0.7632926106452942), ('daughter', 0.7408539652824402)]\n",
            "GloVe closest words: [('daughter', 0.7157857418060303), ('grandmother', 0.6871011853218079)]\n",
            "--------------------------------------------------\n"
          ]
        }
      ]
    },
    {
      "cell_type": "markdown",
      "source": [
        "# Ερώτημα 5: Custom αναλογίες"
      ],
      "metadata": {
        "id": "KUgdD3xYe6t-"
      }
    },
    {
      "cell_type": "code",
      "source": [
        "# Ορισμός νέων αναλογιών\n",
        "new_analogies = [\n",
        "    ('doctor', 'hospital', 'nurse'),\n",
        "    ('king', 'queen', 'prince'),\n",
        "    ('teacher', 'school', 'classroom')\n",
        "]"
      ],
      "metadata": {
        "id": "W-KNXleMe7FQ"
      },
      "execution_count": 36,
      "outputs": []
    },
    {
      "cell_type": "code",
      "source": [
        "# Συνάρτηση για την αναλογία με έλεγχο αν οι λέξεις υπάρχουν στο λεξικό του μοντέλου\n",
        "def find_analogy(model, word1, word2, word3):\n",
        "    # Ελέγχει αν όλες οι λέξεις υπάρχουν στο λεξικό του μοντέλου\n",
        "    if word1 in model.key_to_index and word2 in model.key_to_index and word3 in model.key_to_index:\n",
        "        result = model.most_similar(positive=[word3, word2], negative=[word1], topn=2)\n",
        "        return result\n",
        "    else:\n",
        "        return f\"One or more words not in vocabulary: {word1}, {word2}, {word3}\"\n"
      ],
      "metadata": {
        "id": "MiqH8vm0m_vR"
      },
      "execution_count": 37,
      "outputs": []
    },
    {
      "cell_type": "code",
      "source": [
        "# Εκτέλεση για κάθε αναλογία\n",
        "for analogy in new_analogies:\n",
        "    word1, word2, word3 = analogy\n",
        "    word2vec_result = find_analogy(word2vec_model, word1, word2, word3)\n",
        "    glove_result = find_analogy(glove_model, word1, word2, word3)\n",
        "\n",
        "    print(f\"Analogy: {word1} - {word2} + {word3}\")\n",
        "\n",
        "    print(f\"Word2Vec closest words: {word2vec_result}\")\n",
        "    print(f\"GloVe closest words: {glove_result}\")\n",
        "    print(\"-\" * 50)"
      ],
      "metadata": {
        "colab": {
          "base_uri": "https://localhost:8080/"
        },
        "id": "Lyr77sUprD79",
        "outputId": "655c8bd0-db07-47e1-b40e-6126014d1715"
      },
      "execution_count": 38,
      "outputs": [
        {
          "output_type": "stream",
          "name": "stdout",
          "text": [
            "Analogy: doctor - hospital + nurse\n",
            "Word2Vec closest words: [('Hospital', 0.6594350337982178), ('intensive_care', 0.6123327612876892)]\n",
            "GloVe closest words: [('nursing', 0.5339133739471436), ('nurses', 0.5213382840156555)]\n",
            "--------------------------------------------------\n",
            "Analogy: king - queen + prince\n",
            "Word2Vec closest words: [('princess', 0.7093082070350647), ('duchess', 0.6415467858314514)]\n",
            "GloVe closest words: [('princess', 0.6948407292366028), ('duchess', 0.5315698385238647)]\n",
            "--------------------------------------------------\n",
            "Analogy: teacher - school + classroom\n",
            "Word2Vec closest words: [('classrooms', 0.6912325024604797), ('schools', 0.5725624561309814)]\n",
            "GloVe closest words: [('classrooms', 0.678383469581604), ('campus', 0.5905386805534363)]\n",
            "--------------------------------------------------\n"
          ]
        }
      ]
    },
    {
      "cell_type": "code",
      "source": [],
      "metadata": {
        "id": "ZwAEw5YorF_T"
      },
      "execution_count": null,
      "outputs": []
    }
  ]
}